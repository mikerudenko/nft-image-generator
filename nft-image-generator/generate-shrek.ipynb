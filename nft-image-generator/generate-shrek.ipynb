{
 "cells": [
  {
   "cell_type": "code",
   "execution_count": 11,
   "metadata": {},
   "outputs": [],
   "source": [
    "from PIL import Image \n",
    "from IPython.display import display \n",
    "import random"
   ]
  },
  {
   "cell_type": "code",
   "execution_count": 12,
   "metadata": {},
   "outputs": [],
   "source": [
    "# Each image is made up a series of traits\n",
    "# The weightings for each trait drive the rarity and add up to 100%\n",
    "\n",
    "def create_map(list):\n",
    "    result = {}\n",
    "    for item in list:\n",
    "        result[item] = item.lower()\n",
    "    return result\n",
    "\n",
    "\n",
    "background = [\"bg-1\",\"bg-2\",\"bg-3\",\"bg-4\",\"bg-5\",\"bg-6\",\"bg-7\",\"bg-8\",\"bg-9\",\"bg-10\",\"bg-11\"] \n",
    "uniform = [\"base-1\",\"base-2\", \"base-3\",\"base-4\",\"base-5\",\"base-6\",\"base-7\",\"base-8\",\"base-9\"] \n",
    "face = [\"face-1\",\"face-2\",\"face-3\",\"face-4\",\"face-5\",\"face-6\",\"face-7\",\"face-8\",\"face-9\"]\n",
    "# hat = [\"hat-1\",\"hat-2\",\"hat-3\",\"hat-4\"]\n",
    "\n",
    "# Dictionary variable for each trait. \n",
    "# Each trait corresponds to its file name\n",
    "\n",
    "background_files = create_map(background)\n",
    "uniform_files = create_map(uniform)\n",
    "face_files = create_map(face)\n",
    "# hat_files = create_map(hat)\n"
   ]
  },
  {
   "cell_type": "code",
   "execution_count": 13,
   "metadata": {},
   "outputs": [],
   "source": [
    "## Generate Traits\n",
    "\n",
    "\n",
    "all_images = [] \n",
    "\n",
    "# A recursive function to generate unique image combinations\n",
    "# def create_new_image():\n",
    "\n",
    "raw_images = []\n",
    "for bg in background:\n",
    "    for u in uniform:\n",
    "        for f in face:\n",
    "            # for h in hat:\n",
    "                    raw_images.append({\n",
    "                        \"Background\": bg,\n",
    "                        \"Uniform\": u, \n",
    "                        \"Face\": f,\n",
    "                        # \"Hat\": h\n",
    "                    })\n",
    "\n",
    "for image in raw_images:\n",
    "    random_image = raw_images.pop(random.randint(0, len(raw_images) - 1))\n",
    "    all_images.append(random_image)\n"
   ]
  },
  {
   "cell_type": "code",
   "execution_count": 14,
   "metadata": {},
   "outputs": [],
   "source": [
    "# Returns true if all images are unique\n",
    "def all_images_unique(all_images):\n",
    "    seen = list()\n",
    "    return not any(i in seen or seen.append(i) for i in all_images)\n",
    "\n",
    "# print(\"Are all images unique?\", all_images_unique(all_images))"
   ]
  },
  {
   "cell_type": "code",
   "execution_count": 15,
   "metadata": {},
   "outputs": [],
   "source": [
    "\n",
    "#### Generate Images\n",
    "index = 678\n",
    "for item in all_images:\n",
    "    background = Image.open(f'./trait-layers/backgrounds/{background_files[item[\"Background\"]]}.png').convert('RGBA')\n",
    "    uniform = Image.open(f'./trait-layers/uniform/{uniform_files[item[\"Uniform\"]]}.png').convert('RGBA')\n",
    "    face = Image.open(f'./trait-layers/face/{face_files[item[\"Face\"]]}.png').convert('RGBA')\n",
    "    # hat = Image.open(f'./trait-layers/hat/{hat_files[item[\"Hat\"]]}.png').convert('RGBA')\n",
    "\n",
    "    #Create each composite\n",
    "    com1 = Image.alpha_composite(background, uniform)\n",
    "    com2 = Image.alpha_composite(com1, face)\n",
    "    # com3 = Image.alpha_composite(com2, hat)\n",
    "\n",
    "    #Convert to RGB\n",
    "    rgb_im = com2.convert('RGB')\n",
    "    file_name = str(index) + \".png\"\n",
    "    rgb_im.save(\"./images/\" + file_name)\n",
    "    index=index+1\n",
    "    "
   ]
  },
  {
   "cell_type": "code",
   "execution_count": null,
   "metadata": {},
   "outputs": [],
   "source": []
  }
 ],
 "metadata": {
  "interpreter": {
   "hash": "aee8b7b246df8f9039afb4144a1f6fd8d2ca17a180786b69acc140d282b71a49"
  },
  "kernelspec": {
   "display_name": "Python 3.7.1 64-bit",
   "name": "python3"
  },
  "language_info": {
   "codemirror_mode": {
    "name": "ipython",
    "version": 3
   },
   "file_extension": ".py",
   "mimetype": "text/x-python",
   "name": "python",
   "nbconvert_exporter": "python",
   "pygments_lexer": "ipython3",
   "version": "3.8.9"
  }
 },
 "nbformat": 4,
 "nbformat_minor": 4
}
