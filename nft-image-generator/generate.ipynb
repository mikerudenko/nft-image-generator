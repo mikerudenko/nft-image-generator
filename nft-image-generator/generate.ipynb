{
 "cells": [
  {
   "cell_type": "code",
   "execution_count": 122,
   "metadata": {},
   "outputs": [],
   "source": [
    "from PIL import Image \n",
    "from IPython.display import display \n",
    "import random\n",
    "import json"
   ]
  },
  {
   "cell_type": "code",
   "execution_count": 123,
   "metadata": {},
   "outputs": [],
   "source": [
    "# Each image is made up a series of traits\n",
    "# The weightings for each trait drive the rarity and add up to 100%\n",
    "\n",
    "def create_map(list):\n",
    "    result = {}\n",
    "    for item in list:\n",
    "        result[item] = item.lower()\n",
    "    return result\n",
    "\n",
    "\n",
    "background = [\"Blue\", \"Chessboard\", \"Circles\", \"Colorsquare\", \"Green\", \"Lines\", \"Rainbow\", \"Redblue\", \"Waves\"] \n",
    "cat = [\"Black\", \"Blackelvis\", \"Brown\", \"Brownelvis\", \"Lightblack\", \"Lightbrown\", \"Tiger\", \"White\", \"Whiteelvis\"] \n",
    "glass = [\"Chess\", \"Circles\", \"Default\", \"Green\", \"Love\", \"Rainbowelvis\", \"Rainbow\", \"Starviolet\", \"Violet\"]\n",
    "hair = [\"Alcohol\", \"Colortail\", \"Elvis\", \"Emo\", \"Green\", \"Hippy\", \"Rainbow\", \"RedBlue\", \"Tail\"]\n",
    "mustache = [\"Angry\", \"Cute\", \"Default\", \"Holmes\", \"Rainbow\", \"Romantic\", \"Smile\", \"Volt\", \"Small\"]\n",
    "\n",
    "# Dictionary variable for each trait. \n",
    "# Each trait corresponds to its file name\n",
    "\n",
    "background_files = create_map(background)\n",
    "cat_files = create_map(cat)\n",
    "glass_files = create_map(glass)\n",
    "hair_files = create_map(hair)\n",
    "mustache_files = create_map(mustache)\n"
   ]
  },
  {
   "cell_type": "code",
   "execution_count": 124,
   "metadata": {},
   "outputs": [],
   "source": [
    "## Generate Traits\n",
    "\n",
    "\n",
    "all_images = [] \n",
    "\n",
    "# A recursive function to generate unique image combinations\n",
    "# def create_new_image():\n",
    "\n",
    "raw_images = []\n",
    "    \n",
    "    \n",
    "# Generate the unique combinations based on trait weightings\n",
    "for bg in background:\n",
    "    for c in cat:\n",
    "        for g in glass:\n",
    "            for h in hair:\n",
    "                for m in mustache:\n",
    "                    raw_images.append({\n",
    "                        \"Background\": bg,\n",
    "                        \"Cat\": c, \n",
    "                        \"Glass\": g,\n",
    "                        \"Hair\": h,\n",
    "                        \"Mustache\": m\n",
    "                    })\n",
    "\n",
    "for image in raw_images:\n",
    "    random_image = raw_images.pop(random.randint(0, len(raw_images) - 1))\n",
    "    all_images.append(random_image)\n"
   ]
  },
  {
   "cell_type": "code",
   "execution_count": 125,
   "metadata": {},
   "outputs": [],
   "source": [
    "# Returns true if all images are unique\n",
    "def all_images_unique(all_images):\n",
    "    seen = list()\n",
    "    return not any(i in seen or seen.append(i) for i in all_images)\n",
    "\n",
    "# print(\"Are all images unique?\", all_images_unique(all_images))"
   ]
  },
  {
   "cell_type": "code",
   "execution_count": 126,
   "metadata": {},
   "outputs": [],
   "source": [
    "# Add token Id to each image\n",
    "i = 0\n",
    "for item in all_images:\n",
    "    item[\"tokenId\"] = i\n",
    "    i = i + 1"
   ]
  },
  {
   "cell_type": "code",
   "execution_count": 127,
   "metadata": {
    "tags": []
   },
   "outputs": [],
   "source": [
    "# print(all_images)"
   ]
  },
  {
   "cell_type": "code",
   "execution_count": 128,
   "metadata": {},
   "outputs": [
    {
     "name": "stdout",
     "output_type": "stream",
     "text": [
      "{'Blue': 0, 'Chessboard': 0, 'Circles': 0, 'Colorsquare': 0, 'Green': 0, 'Lines': 0, 'Rainbow': 0, 'Redblue': 0, 'Waves': 0}\n"
     ]
    }
   ],
   "source": [
    "# Get Trait Counts\n",
    "\n",
    "background_count = {}\n",
    "for item in background:\n",
    "    background_count[item] = 0\n",
    "    \n",
    "cat_count = {}\n",
    "for item in cat:\n",
    "    cat_count[item] = 0\n",
    "\n",
    "glass_count = {}\n",
    "for item in glass:\n",
    "    glass_count[item] = 0\n",
    "\n",
    "hair_count = {}\n",
    "for item in hair:\n",
    "    hair_count[item] = 0\n",
    "\n",
    "mustache_count = {}\n",
    "for item in glass:\n",
    "    mustache_count[item] = 0\n",
    "\n",
    "# for image in all_images:\n",
    "#     background_count[image[\"Background\"]] += 1\n",
    "#     cat_count[image[\"Cat\"]] += 1\n",
    "#     glass_count[image[\"Glass\"]] += 1\n",
    "#     hair_count[image[\"Hair\"]] += 1\n",
    "#     mustache_count[image[\"Mustache\"]] += 1\n",
    "    \n",
    "print(background_count)\n"
   ]
  },
  {
   "cell_type": "code",
   "execution_count": 129,
   "metadata": {},
   "outputs": [],
   "source": [
    "#### Generate Metadata for all Traits \n",
    "METADATA_FILE_NAME = './metadata/all-traits.json'; \n",
    "with open(METADATA_FILE_NAME, 'w') as outfile:\n",
    "    json.dump(all_images, outfile, indent=4)"
   ]
  },
  {
   "cell_type": "markdown",
   "metadata": {},
   "source": []
  },
  {
   "cell_type": "code",
   "execution_count": 130,
   "metadata": {},
   "outputs": [],
   "source": [
    "\n",
    "#### Generate Images    \n",
    "for item in all_images:\n",
    "\n",
    "    background = Image.open(f'./trait-layers/backgrounds/{background_files[item[\"Background\"]]}.png').convert('RGBA')\n",
    "    cat = Image.open(f'./trait-layers/cat/{cat_files[item[\"Cat\"]]}.png').convert('RGBA')\n",
    "    hair = Image.open(f'./trait-layers/hair/{hair_files[item[\"Hair\"]]}.png').convert('RGBA')\n",
    "    mustache = Image.open(f'./trait-layers/mustache/{mustache_files[item[\"Mustache\"]]}.png').convert('RGBA')\n",
    "    glass = Image.open(f'./trait-layers/glass/{glass_files[item[\"Glass\"]]}.png').convert('RGBA')\n",
    "\n",
    "    #Create each composite\n",
    "    com1 = Image.alpha_composite(background, cat)\n",
    "    com2 = Image.alpha_composite(com1, hair)\n",
    "    com3 = Image.alpha_composite(com2, mustache)\n",
    "    com4 = Image.alpha_composite(com3, glass)\n",
    "\n",
    "    #Convert to RGB\n",
    "    rgb_im = com4.convert('RGB')\n",
    "    file_name = str(item[\"tokenId\"]) + \".png\"\n",
    "    rgb_im.save(\"./images/\" + file_name)\n",
    "    "
   ]
  },
  {
   "cell_type": "code",
   "execution_count": null,
   "metadata": {},
   "outputs": [],
   "source": [
    "#### Generate Metadata for each Image    \n",
    "\n",
    "f = open('./metadata/all-traits.json',) \n",
    "data = json.load(f)\n",
    "\n",
    "\n",
    "IMAGES_BASE_URI = \"ADD_IMAGES_BASE_URI_HERE\"\n",
    "PROJECT_NAME = \"ADD_PROJECT_NAME_HERE\"\n",
    "\n",
    "def getAttribute(key, value):\n",
    "    return {\n",
    "        \"trait_type\": key,\n",
    "        \"value\": value\n",
    "    }\n",
    "for i in data:\n",
    "    token_id = i['tokenId']\n",
    "    token = {\n",
    "        \"image\": IMAGES_BASE_URI + str(token_id) + '.png',\n",
    "        \"tokenId\": token_id,\n",
    "        \"name\": PROJECT_NAME + ' ' + str(token_id),\n",
    "        \"attributes\": []\n",
    "    }\n",
    "    token[\"attributes\"].append(getAttribute(\"Background\", i[\"Background\"]))\n",
    "    token[\"attributes\"].append(getAttribute(\"Cat\", i[\"Cat\"]))\n",
    "    token[\"attributes\"].append(getAttribute(\"Glass\", i[\"Glass\"]))\n",
    "    token[\"attributes\"].append(getAttribute(\"Hair\", i[\"Hair\"]))\n",
    "    token[\"attributes\"].append(getAttribute(\"Mustache\", i[\"Mustache\"]))\n",
    "\n",
    "    with open('./metadata/' + str(token_id), 'w') as outfile:\n",
    "        json.dump(token, outfile, indent=4)\n",
    "f.close()"
   ]
  },
  {
   "cell_type": "code",
   "execution_count": null,
   "metadata": {},
   "outputs": [],
   "source": []
  }
 ],
 "metadata": {
  "interpreter": {
   "hash": "aee8b7b246df8f9039afb4144a1f6fd8d2ca17a180786b69acc140d282b71a49"
  },
  "kernelspec": {
   "display_name": "Python 3.7.1 64-bit",
   "name": "python3"
  },
  "language_info": {
   "codemirror_mode": {
    "name": "ipython",
    "version": 3
   },
   "file_extension": ".py",
   "mimetype": "text/x-python",
   "name": "python",
   "nbconvert_exporter": "python",
   "pygments_lexer": "ipython3",
   "version": "3.7.1"
  }
 },
 "nbformat": 4,
 "nbformat_minor": 4
}
